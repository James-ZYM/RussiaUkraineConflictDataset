{
 "cells": [
  {
   "cell_type": "code",
   "execution_count": 27,
   "metadata": {},
   "outputs": [],
   "source": [
    "import re\n",
    "import pandas as pd\n",
    "\n",
    "# Prepare data\n",
    "path = os.path.join(\"NLPexam\",\"data\", \"formatted_data.csv\")\n",
    "data = pd.read_csv(path)\n",
    "\n",
    "# make text column lower case\n",
    "data.body = data['body'].map(lambda body: body.lower() if isinstance(body,str) else body)\n",
    "\n",
    "# make lists\n",
    "dates = data.date.to_list()\n",
    "docs = data.document.to_list()\n",
    "subreddits = data.sub_reddit.to_list()"
   ]
  },
  {
   "cell_type": "code",
   "execution_count": 12,
   "metadata": {},
   "outputs": [
    {
     "data": {
      "text/html": [
       "<div>\n",
       "<style scoped>\n",
       "    .dataframe tbody tr th:only-of-type {\n",
       "        vertical-align: middle;\n",
       "    }\n",
       "\n",
       "    .dataframe tbody tr th {\n",
       "        vertical-align: top;\n",
       "    }\n",
       "\n",
       "    .dataframe thead th {\n",
       "        text-align: right;\n",
       "    }\n",
       "</style>\n",
       "<table border=\"1\" class=\"dataframe\">\n",
       "  <thead>\n",
       "    <tr style=\"text-align: right;\">\n",
       "      <th></th>\n",
       "      <th>Unnamed: 0</th>\n",
       "      <th>body</th>\n",
       "      <th>subreddit</th>\n",
       "      <th>post_type</th>\n",
       "      <th>date</th>\n",
       "      <th>index1</th>\n",
       "      <th>language</th>\n",
       "    </tr>\n",
       "  </thead>\n",
       "  <tbody>\n",
       "    <tr>\n",
       "      <th>0</th>\n",
       "      <td>1422</td>\n",
       "      <td>a lot of historians believe the bombs were not...</td>\n",
       "      <td>UkrainianConflict</td>\n",
       "      <td>Comments</td>\n",
       "      <td>2022-03-23</td>\n",
       "      <td>1422</td>\n",
       "      <td>en</td>\n",
       "    </tr>\n",
       "    <tr>\n",
       "      <th>1</th>\n",
       "      <td>1423</td>\n",
       "      <td>ehh, i don't think so, anonymous is not really...</td>\n",
       "      <td>UkrainianConflict</td>\n",
       "      <td>Comments</td>\n",
       "      <td>2022-03-23</td>\n",
       "      <td>1423</td>\n",
       "      <td>en</td>\n",
       "    </tr>\n",
       "    <tr>\n",
       "      <th>2</th>\n",
       "      <td>1424</td>\n",
       "      <td>i don't understand what you mean, the un recog...</td>\n",
       "      <td>UkrainianConflict</td>\n",
       "      <td>Comments</td>\n",
       "      <td>2022-03-23</td>\n",
       "      <td>1424</td>\n",
       "      <td>en</td>\n",
       "    </tr>\n",
       "    <tr>\n",
       "      <th>3</th>\n",
       "      <td>1425</td>\n",
       "      <td>i coin in the coffers ring ,and soul from russ...</td>\n",
       "      <td>UkrainianConflict</td>\n",
       "      <td>Comments</td>\n",
       "      <td>2022-03-23</td>\n",
       "      <td>1425</td>\n",
       "      <td>en</td>\n",
       "    </tr>\n",
       "    <tr>\n",
       "      <th>4</th>\n",
       "      <td>1426</td>\n",
       "      <td>no, azov is 100% nazi. they admit it, they use...</td>\n",
       "      <td>UkrainianConflict</td>\n",
       "      <td>Comments</td>\n",
       "      <td>2022-03-23</td>\n",
       "      <td>1426</td>\n",
       "      <td>en</td>\n",
       "    </tr>\n",
       "  </tbody>\n",
       "</table>\n",
       "</div>"
      ],
      "text/plain": [
       "   Unnamed: 0                                               body  \\\n",
       "0        1422  a lot of historians believe the bombs were not...   \n",
       "1        1423  ehh, i don't think so, anonymous is not really...   \n",
       "2        1424  i don't understand what you mean, the un recog...   \n",
       "3        1425  i coin in the coffers ring ,and soul from russ...   \n",
       "4        1426  no, azov is 100% nazi. they admit it, they use...   \n",
       "\n",
       "           subreddit post_type        date  index1 language  \n",
       "0  UkrainianConflict  Comments  2022-03-23    1422       en  \n",
       "1  UkrainianConflict  Comments  2022-03-23    1423       en  \n",
       "2  UkrainianConflict  Comments  2022-03-23    1424       en  \n",
       "3  UkrainianConflict  Comments  2022-03-23    1425       en  \n",
       "4  UkrainianConflict  Comments  2022-03-23    1426       en  "
      ]
     },
     "execution_count": 12,
     "metadata": {},
     "output_type": "execute_result"
    }
   ],
   "source": [
    "pd.DataFrame.head(data)"
   ]
  },
  {
   "cell_type": "code",
   "execution_count": null,
   "metadata": {},
   "outputs": [],
   "source": [
    "print(dates[0])\n",
    "print(type(dates[0]))\n",
    "print(docs[0])\n",
    "print(type(docs[0]))"
   ]
  },
  {
   "cell_type": "code",
   "execution_count": 23,
   "metadata": {},
   "outputs": [
    {
     "name": "stdout",
     "output_type": "stream",
     "text": [
      "9211907\n",
      "9211907\n"
     ]
    }
   ],
   "source": [
    "print(len(dates))\n",
    "print(len(docs))"
   ]
  },
  {
   "cell_type": "code",
   "execution_count": null,
   "metadata": {},
   "outputs": [],
   "source": [
    "from bertopic import BERTopic\n",
    "\n",
    "topic_model = BERTopic(language = \"multilingual\", verbose = True, calculate_probabilities = False)\n",
    "topics, probs = topic_model.fit_transform(docs)"
   ]
  },
  {
   "cell_type": "code",
   "execution_count": null,
   "metadata": {},
   "outputs": [],
   "source": [
    "# Topics over time\n",
    "topics_over_time = topic_model.topics_over_time(docs, dates, nr_bins=20)\n",
    "topic_model.visualize_topics_over_time(topics_over_time, top_n_topics=20)"
   ]
  },
  {
   "cell_type": "code",
   "execution_count": null,
   "metadata": {},
   "outputs": [],
   "source": [
    "# Topics per class\n",
    "topics_per_class = topic_model.topics_per_class(docs, classes = subreddits)"
   ]
  }
 ],
 "metadata": {
  "interpreter": {
   "hash": "31f2aee4e71d21fbe5cf8b01ff0e069b9275f58929596ceb00d14d90e3e16cd6"
  },
  "kernelspec": {
   "display_name": "Python 3.9.2 64-bit",
   "language": "python",
   "name": "python3"
  },
  "language_info": {
   "codemirror_mode": {
    "name": "ipython",
    "version": 3
   },
   "file_extension": ".py",
   "mimetype": "text/x-python",
   "name": "python",
   "nbconvert_exporter": "python",
   "pygments_lexer": "ipython3",
   "version": "3.9.2"
  },
  "orig_nbformat": 4
 },
 "nbformat": 4,
 "nbformat_minor": 2
}
